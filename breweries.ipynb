{
 "cells": [
  {
   "cell_type": "markdown",
   "metadata": {},
   "source": [
    "Micro-Brew-api: build url and test"
   ]
  },
  {
   "cell_type": "code",
   "execution_count": 31,
   "metadata": {},
   "outputs": [],
   "source": [
    "# Dependencies\n",
    "import requests\n",
    "import json\n",
    "from pprint import pprint"
   ]
  },
  {
   "cell_type": "code",
   "execution_count": 52,
   "metadata": {},
   "outputs": [
    {
     "name": "stdout",
     "output_type": "stream",
     "text": [
      "<Response [401]>\n"
     ]
    }
   ],
   "source": [
    "url = \"https://brianiswu-open-brewery-db-v1.p.rapidapi.com/breweries\"\n",
    "\n",
    "#requests.get(url).json()\n",
    "\n",
    "querystring = {\"by_state\":\"NY\",\"by_name\":\"cooper\",\"by_tag\":\"patio\",\"by_type\":\"micro\"}\n",
    "\n",
    "headers = {\n",
    "    'x-rapidapi-host': \"brianiswu-open-brewery-db-v1.p.rapidapi.com\",\n",
    "    'x-rapidapi-key': \"593ae9985dmsh468409bd8972d8ep1218adjsn085c51d903f1\"\n",
    "    }\n",
    "\n",
    "response = requests.request(\"GET\", url, headers=headers, params=querystring)\n",
    "print(requests.get(url))\n",
    "#print(response)\n",
    "#pprint(response)"
   ]
  },
  {
   "cell_type": "code",
   "execution_count": 51,
   "metadata": {},
   "outputs": [
    {
     "name": "stdout",
     "output_type": "stream",
     "text": [
      "GET https://brianiswu-open-brewery-db-v1.p.rapidapi.com/breweries {'x-rapidapi-host': 'brianiswu-open-brewery-db-v1.p.rapidapi.com', 'x-rapidapi-key': '593ae9985dmsh468409bd8972d8ep1218adjsn085c51d903f1'} {'by_state': 'NY', 'by_name': 'cooper', 'by_tag': 'patio', 'by_type': 'micro'}\n"
     ]
    }
   ],
   "source": [
    "print(\"GET\", url, headers, querystring)"
   ]
  }
 ],
 "metadata": {
  "kernelspec": {
   "display_name": "Python 3",
   "language": "python",
   "name": "python3"
  },
  "language_info": {
   "codemirror_mode": {
    "name": "ipython",
    "version": 3
   },
   "file_extension": ".py",
   "mimetype": "text/x-python",
   "name": "python",
   "nbconvert_exporter": "python",
   "pygments_lexer": "ipython3",
   "version": "3.7.7"
  }
 },
 "nbformat": 4,
 "nbformat_minor": 4
}
